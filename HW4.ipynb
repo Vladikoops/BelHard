{
  "nbformat": 4,
  "nbformat_minor": 0,
  "metadata": {
    "colab": {
      "provenance": []
    },
    "kernelspec": {
      "name": "python3",
      "display_name": "Python 3"
    },
    "language_info": {
      "name": "python"
    }
  },
  "cells": [
    {
      "cell_type": "code",
      "execution_count": 19,
      "metadata": {
        "id": "rxBC0HfJU5Jc",
        "colab": {
          "base_uri": "https://localhost:8080/"
        },
        "outputId": "d137d0cb-4604-4a13-9a37-58b622353b61"
      },
      "outputs": [
        {
          "output_type": "stream",
          "name": "stdout",
          "text": [
            "Обучение завершено после 1000 эпизодов\n",
            "Лучшие гиперпараметры: {'learning_rate': 0.01, 'gamma': 0.95}\n"
          ]
        }
      ],
      "source": [
        "import torch\n",
        "import torch.nn as nn\n",
        "import torch.optim as optim\n",
        "import numpy as np\n",
        "import random\n",
        "\n",
        "# Определение нейронной сети для аппроксимации Q-функции\n",
        "class QNetwork(nn.Module):\n",
        "    def __init__(self, state_size, action_size):\n",
        "        super(QNetwork, self).__init__()\n",
        "        # Простая сеть с одним скрытым слоем\n",
        "        self.fc1 = nn.Linear(state_size, 24)\n",
        "        self.fc2 = nn.Linear(24, action_size)\n",
        "\n",
        "    def forward(self, x):\n",
        "        x = torch.relu(self.fc1(x))\n",
        "        x = self.fc2(x)\n",
        "        return x\n",
        "\n",
        "# Среда (упрощенная для примера)\n",
        "class SimpleEnv:\n",
        "    def __init__(self):\n",
        "        self.state_space_size = 4\n",
        "        self.action_space_size = 2\n",
        "\n",
        "    def step(self, state, action):\n",
        "        next_state = (state + 1) % self.state_space_size\n",
        "        reward = 1 if action == 0 else -1\n",
        "        done = next_state == 0\n",
        "        return next_state, reward, done\n",
        "\n",
        "    def reset(self):\n",
        "        return 0\n",
        "\n",
        "def train(env, model, episodes=1000, learning_rate=0.01, gamma=0.95):\n",
        "    optimizer = optim.Adam(model.parameters(), lr=learning_rate)\n",
        "    loss_fn = nn.MSELoss()\n",
        "\n",
        "    best_hyperparameters = {'learning_rate': learning_rate, 'gamma': gamma}\n",
        "    best_accuracy = 0\n",
        "\n",
        "    for episode in range(episodes):\n",
        "        state = env.reset()\n",
        "        done = False\n",
        "\n",
        "        while not done:\n",
        "            state_tensor = torch.FloatTensor([state])\n",
        "            q_values = model(state_tensor)\n",
        "\n",
        "            _, action = torch.max(q_values, dim=-1)\n",
        "            action = action.item()\n",
        "\n",
        "            next_state, reward, done = env.step(state, action)\n",
        "\n",
        "            next_state_tensor = torch.FloatTensor([next_state])\n",
        "            next_q_values = model(next_state_tensor)\n",
        "\n",
        "            target_q = reward + gamma * torch.max(next_q_values)\n",
        "            loss = loss_fn(q_values, target_q.unsqueeze(0))\n",
        "\n",
        "            optimizer.zero_grad()\n",
        "            loss.backward()\n",
        "            optimizer.step()\n",
        "\n",
        "            state = next_state\n",
        "\n",
        "    print(f\"Обучение завершено после {episodes} эпизодов\")\n",
        "    print(f\"Лучшие гиперпараметры: {best_hyperparameters}\")\n",
        "\n",
        "# Создание сети и обучение\n",
        "state_size = 1  # Размерность состояния\n",
        "action_size = 2  # Количество возможных действий\n",
        "\n",
        "learning_rate = 0.01\n",
        "gamma = 0.95\n",
        "\n",
        "q_network = QNetwork(state_size, action_size)\n",
        "env = SimpleEnv()\n",
        "train(env, q_network, learning_rate=learning_rate, gamma=gamma)"
      ]
    }
  ]
}