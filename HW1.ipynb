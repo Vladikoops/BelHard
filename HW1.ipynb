{
  "nbformat": 4,
  "nbformat_minor": 0,
  "metadata": {
    "colab": {
      "provenance": []
    },
    "kernelspec": {
      "name": "python3",
      "display_name": "Python 3"
    },
    "language_info": {
      "name": "python"
    }
  },
  "cells": [
    {
      "cell_type": "markdown",
      "source": [
        "# 6.\tЗагрузите набор данных о посетителях веб-сайта (например, набор данных Online Shoppers) и обучите модель классификации для предсказания, будет ли посетитель совершать покупку."
      ],
      "metadata": {
        "id": "mloLdNK5cTe1"
      }
    },
    {
      "cell_type": "markdown",
      "source": [
        "# Data Preparation"
      ],
      "metadata": {
        "id": "6CUuQxFW2nia"
      }
    },
    {
      "cell_type": "code",
      "source": [
        "!pip3 install -U ucimlrepo\n",
        "import numpy as np\n",
        "import pandas as pd\n",
        "\n",
        "from sklearn.model_selection import train_test_split\n",
        "from sklearn.preprocessing import StandardScaler\n",
        "from sklearn.preprocessing import LabelEncoder\n",
        "\n",
        "url = \"https://archive.ics.uci.edu/static/public/468/data.csv\"\n",
        "df = pd.read_csv(url)\n",
        "\n",
        "# transforming object types\n",
        "label_encoder = LabelEncoder()\n",
        "for column in df.columns:\n",
        "    if df[column].dtype == 'object':\n",
        "        df[column] = label_encoder.fit_transform(df[column])\n",
        "\n",
        "#making task as binary classification\n",
        "y = (df['Revenue']> np.median(df['Revenue'])).astype(int)\n",
        "X = df.drop('Revenue', axis=1)\n",
        "\n",
        "X_train, X_test, y_train, y_test = train_test_split(X, y, test_size=0.2, random_state=42)\n",
        "\n",
        "scaler = StandardScaler()\n",
        "X_train = scaler.fit_transform(X_train)\n",
        "X_test = scaler.transform(X_test)"
      ],
      "metadata": {
        "id": "3L_C37NEcUPi",
        "colab": {
          "base_uri": "https://localhost:8080/"
        },
        "outputId": "e13a5379-7881-4ce2-9b6d-863f678f9716"
      },
      "execution_count": 22,
      "outputs": [
        {
          "output_type": "stream",
          "name": "stdout",
          "text": [
            "Requirement already satisfied: ucimlrepo in /usr/local/lib/python3.10/dist-packages (0.0.3)\n"
          ]
        }
      ]
    },
    {
      "cell_type": "markdown",
      "source": [
        "# SVC"
      ],
      "metadata": {
        "id": "Y1fTmifF4ktt"
      }
    },
    {
      "cell_type": "code",
      "source": [
        "from sklearn.metrics import classification_report, confusion_matrix, accuracy_score, roc_auc_score\n",
        "from sklearn.svm import SVC\n",
        "model = SVC(kernel='linear', C=1)\n",
        "model.fit(X_train, y_train)\n",
        "\n",
        "SVCpred = model.predict(X_test)\n",
        "\n",
        "print(\"Метрики качества:\")\n",
        "print(classification_report(y_test, SVCpred))\n",
        "\n",
        "conf_matrix = confusion_matrix(y_test, SVCpred)\n",
        "print(\"Матрица ошибок:\")\n",
        "print(conf_matrix)\n",
        "\n",
        "SVCaccuracy = accuracy_score(y_test, SVCpred)\n",
        "print(f\"Точность модели: {SVCaccuracy}\")\n",
        "\n",
        "SVCROCAUS = roc_auc_score(y_test, SVCpred)\n",
        "print(f\"ROC AUS: {SVCROCAUS}\")"
      ],
      "metadata": {
        "id": "aGysyfdP2dJd",
        "colab": {
          "base_uri": "https://localhost:8080/"
        },
        "outputId": "adbcadff-496c-4bb3-e290-55423bbd6a1d"
      },
      "execution_count": 32,
      "outputs": [
        {
          "output_type": "stream",
          "name": "stdout",
          "text": [
            "Метрики качества:\n",
            "              precision    recall  f1-score   support\n",
            "\n",
            "           0       0.88      0.97      0.93      2055\n",
            "           1       0.72      0.36      0.48       411\n",
            "\n",
            "    accuracy                           0.87      2466\n",
            "   macro avg       0.80      0.67      0.70      2466\n",
            "weighted avg       0.86      0.87      0.85      2466\n",
            "\n",
            "Матрица ошибок:\n",
            "[[1996   59]\n",
            " [ 261  150]]\n",
            "Точность модели: 0.870235198702352\n",
            "ROC AUS: 0.6681265206812652\n"
          ]
        }
      ]
    },
    {
      "cell_type": "markdown",
      "source": [
        "# KNN"
      ],
      "metadata": {
        "id": "47SAaizV4pBY"
      }
    },
    {
      "cell_type": "code",
      "source": [
        "from sklearn.neighbors import KNeighborsClassifier\n",
        "\n",
        "model_knn = KNeighborsClassifier()\n",
        "model_knn.fit(X_train, y_train)\n",
        "KNNpred = model_knn.predict(X_test)\n",
        "\n",
        "print(\"Метрики качества:\")\n",
        "print(classification_report(y_test, KNNpred))\n",
        "\n",
        "conf_matrix = confusion_matrix(y_test, KNNpred)\n",
        "print(\"Матрица ошибок:\")\n",
        "print(conf_matrix)\n",
        "\n",
        "KNNaccuracy = accuracy_score(y_test, KNNpred)\n",
        "print(f\"Точность модели: {KNNaccuracy}\")\n",
        "\n",
        "KNNROCAUS = roc_auc_score(y_test, KNNpred)\n",
        "print(f\"ROC AUS: {KNNROCAUS}\")"
      ],
      "metadata": {
        "colab": {
          "base_uri": "https://localhost:8080/"
        },
        "id": "0y3USAUz4-ja",
        "outputId": "f166bf1d-f1af-422d-9a42-c845d568eb59"
      },
      "execution_count": 33,
      "outputs": [
        {
          "output_type": "stream",
          "name": "stdout",
          "text": [
            "Метрики качества:\n",
            "              precision    recall  f1-score   support\n",
            "\n",
            "           0       0.88      0.97      0.92      2055\n",
            "           1       0.68      0.36      0.47       411\n",
            "\n",
            "    accuracy                           0.87      2466\n",
            "   macro avg       0.78      0.66      0.70      2466\n",
            "weighted avg       0.85      0.87      0.85      2466\n",
            "\n",
            "Матрица ошибок:\n",
            "[[1986   69]\n",
            " [ 263  148]]\n",
            "Точность модели: 0.8653690186536902\n",
            "ROC AUS: 0.6632603406326034\n"
          ]
        }
      ]
    },
    {
      "cell_type": "markdown",
      "source": [
        "# Naive Bayes"
      ],
      "metadata": {
        "id": "VcrlQFqT7AGC"
      }
    },
    {
      "cell_type": "code",
      "source": [
        "from sklearn.naive_bayes import GaussianNB\n",
        "\n",
        "model_nb = GaussianNB()\n",
        "model_nb.fit(X_train, y_train)\n",
        "NBpred = model_nb.predict(X_test)\n",
        "\n",
        "print(\"Метрики качества:\")\n",
        "print(classification_report(y_test, NBpred))\n",
        "\n",
        "conf_matrix = confusion_matrix(y_test, NBpred)\n",
        "print(\"Матрица ошибок:\")\n",
        "print(conf_matrix)\n",
        "\n",
        "NBaccuracy = accuracy_score(y_test, NBpred)\n",
        "print(f\"Точность модели: {NBaccuracy}\")\n",
        "\n",
        "NBROCAUS = roc_auc_score(y_test, NBpred)\n",
        "print(f\"ROC AUS: {NBROCAUS}\")"
      ],
      "metadata": {
        "colab": {
          "base_uri": "https://localhost:8080/"
        },
        "id": "78Q17dHV7JLB",
        "outputId": "f46ed1ae-3357-4818-ed07-0d1e5c4c081d"
      },
      "execution_count": 34,
      "outputs": [
        {
          "output_type": "stream",
          "name": "stdout",
          "text": [
            "Метрики качества:\n",
            "              precision    recall  f1-score   support\n",
            "\n",
            "           0       0.93      0.81      0.87      2055\n",
            "           1       0.42      0.69      0.52       411\n",
            "\n",
            "    accuracy                           0.79      2466\n",
            "   macro avg       0.68      0.75      0.69      2466\n",
            "weighted avg       0.84      0.79      0.81      2466\n",
            "\n",
            "Матрица ошибок:\n",
            "[[1666  389]\n",
            " [ 127  284]]\n",
            "Точность модели: 0.7907542579075426\n",
            "ROC AUS: 0.7508515815085158\n"
          ]
        }
      ]
    },
    {
      "cell_type": "code",
      "source": [
        "print('Top Accuracy')\n",
        "acc = [SVCaccuracy, KNNaccuracy, NBaccuracy]\n",
        "sorted_acc = sorted(acc, reverse=True)\n",
        "method = ['SVC', 'KNN', 'NB']\n",
        "result = list(zip(method, sorted_acc))\n",
        "\n",
        "for variable, value in result:\n",
        "    print(f'{variable}: {value}')\n",
        "\n",
        "print('top ROCAUS')\n",
        "rocaus = [SVCROCAUS, KNNROCAUS, NBROCAUS]\n",
        "sorted_rocaus = sorted(rocaus, reverse=True)\n",
        "method = ['SVC', 'KNN', 'NB']\n",
        "result = list(zip(method, sorted_rocaus))\n",
        "\n",
        "for variable, value in result:\n",
        "    print(f'{variable}: {value}')"
      ],
      "metadata": {
        "colab": {
          "base_uri": "https://localhost:8080/"
        },
        "id": "4JkHp4qq8wZb",
        "outputId": "8df74fa9-ea07-4160-f193-c7bbd1c138d9"
      },
      "execution_count": 36,
      "outputs": [
        {
          "output_type": "stream",
          "name": "stdout",
          "text": [
            "Top Accuracy\n",
            "SVC: 0.870235198702352\n",
            "KNN: 0.8653690186536902\n",
            "NB: 0.7907542579075426\n",
            "top ROCAUS\n",
            "SVC: 0.7508515815085158\n",
            "KNN: 0.6681265206812652\n",
            "NB: 0.6632603406326034\n"
          ]
        }
      ]
    }
  ]
}